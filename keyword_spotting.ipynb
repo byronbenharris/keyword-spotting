{
 "cells": [
  {
   "cell_type": "markdown",
   "metadata": {},
   "source": [
    "### Setup"
   ]
  },
  {
   "cell_type": "code",
   "execution_count": 72,
   "metadata": {},
   "outputs": [],
   "source": [
    "# Path\n",
    "import os\n",
    "from os.path import isdir, join\n",
    "from pathlib import Path\n",
    "\n",
    "# Scientific Math\n",
    "import numpy as np\n",
    "from scipy.fftpack import fft\n",
    "from scipy import signal\n",
    "from scipy.io import wavfile\n",
    "from sklearn.model_selection import train_test_split\n",
    "\n",
    "# Visualization\n",
    "from matplotlib import cm\n",
    "import matplotlib.pyplot as plt\n",
    "import tensorflow as tf\n",
    "import plotly.offline as py\n",
    "import plotly.graph_objs as go\n",
    "\n",
    "# Keras\n",
    "import keras\n",
    "from keras.preprocessing.image import ImageDataGenerator\n",
    "from keras.models import Sequential\n",
    "from keras.layers import Conv1D, Conv2D\n",
    "from keras.layers import Dense, Dropout, Activation, Flatten\n",
    "from keras.layers.convolutional import MaxPooling1D, MaxPooling2D\n",
    "from keras.callbacks import ModelCheckpoint\n",
    "from keras.models import Model\n",
    "\n",
    "# Miscellaneous\n",
    "import random\n",
    "import copy\n",
    "import librosa\n",
    "from librosa import display\n",
    "\n",
    "%matplotlib inline"
   ]
  },
  {
   "cell_type": "markdown",
   "metadata": {},
   "source": [
    "### Import Data"
   ]
  },
  {
   "cell_type": "code",
   "execution_count": 5,
   "metadata": {},
   "outputs": [
    {
     "name": "stdout",
     "output_type": "stream",
     "text": [
      "Number of labels: 35\n",
      "['backward', 'bed', 'bird', 'cat', 'dog', 'down', 'eight', 'five', 'follow', 'forward', 'four', 'go', 'happy', 'house', 'learn', 'left', 'marvin', 'nine', 'no', 'off', 'on', 'one', 'right', 'seven', 'sheila', 'six', 'stop', 'three', 'tree', 'two', 'up', 'visual', 'wow', 'yes', 'zero']\n"
     ]
    }
   ],
   "source": [
    "train_audio_path = '/home/ubuntu/data/speech_commands/'\n",
    "dirs = [f for f in os.listdir(train_audio_path) if isdir(join(train_audio_path, f))]\n",
    "dirs.remove(\"_background_noise_\")\n",
    "dirs.sort()\n",
    "print('Number of labels: {l}'.format(l=len(dirs)))\n",
    "print(dirs)"
   ]
  },
  {
   "cell_type": "code",
   "execution_count": 6,
   "metadata": {},
   "outputs": [],
   "source": [
    "target_list = ['yes', 'no', 'up', 'down', 'left', 'right', 'on', 'off', 'stop', 'go']\n",
    "unknown_list = [d for d in dirs if d not in target_list]"
   ]
  },
  {
   "cell_type": "code",
   "execution_count": 7,
   "metadata": {},
   "outputs": [],
   "source": [
    "label = 0\n",
    "sample_rate = 8000\n",
    "\n",
    "wav_all = [] # data for every wav in the dataset (ordered)\n",
    "label_all = [] # list of all labels of dataset (ordered)\n",
    "label_value = {\"unknown\" : 0} # { label_str : number }\n",
    "\n",
    "for direct in dirs:\n",
    "    \n",
    "    if direct in target_list:\n",
    "        label += 1\n",
    "        label_value[direct] = label\n",
    "        \n",
    "    waves = [f for f in os.listdir(join(train_audio_path, direct)) if f.endswith('.wav')]\n",
    "    \n",
    "    for wav in waves:\n",
    "        samples, _ = librosa.load(join(join(train_audio_path,direct),wav), sr = sample_rate)\n",
    "        if samples.shape[0] == sample_rate: # checks sample size\n",
    "            wav_all.append(samples)\n",
    "            tag = direct\n",
    "            if direct in unknown_list:\n",
    "                tag = \"unknown\"\n",
    "            label_all.append(label_value[tag])"
   ]
  },
  {
   "cell_type": "code",
   "execution_count": 8,
   "metadata": {},
   "outputs": [
    {
     "name": "stdout",
     "output_type": "stream",
     "text": [
      "0: 60419\n",
      "1: 3580\n",
      "2: 3478\n",
      "3: 3502\n",
      "4: 3545\n",
      "5: 3427\n",
      "6: 3471\n",
      "7: 3448\n",
      "8: 3563\n",
      "9: 3269\n",
      "10: 3692\n"
     ]
    }
   ],
   "source": [
    "for tag in range(len(target_list) + 1):\n",
    "    print(\"{i}: {c}\".format(i=tag, c=label_all.count(tag)))"
   ]
  },
  {
   "cell_type": "code",
   "execution_count": 9,
   "metadata": {},
   "outputs": [],
   "source": [
    "wav_vals = np.array([x for x in wav_all])\n",
    "label_vals = keras.utils.to_categorical(np.array([x for x in label_all]), len(label_value))"
   ]
  },
  {
   "cell_type": "code",
   "execution_count": 10,
   "metadata": {},
   "outputs": [
    {
     "name": "stdout",
     "output_type": "stream",
     "text": [
      "(95394, 8000)\n",
      "(95394, 11)\n"
     ]
    }
   ],
   "source": [
    "print(wav_vals.shape)\n",
    "print(label_vals.shape)"
   ]
  },
  {
   "cell_type": "code",
   "execution_count": null,
   "metadata": {},
   "outputs": [],
   "source": [
    "# frees RAM from setup\n",
    "del wav_all[:]\n",
    "del wav_all\n",
    "del label_all[:]\n",
    "del label_all"
   ]
  },
  {
   "cell_type": "code",
   "execution_count": 11,
   "metadata": {},
   "outputs": [],
   "source": [
    "train_wav, test_wav, train_label, test_label = train_test_split(wav_vals, label_vals, test_size=0.2, random_state = 2019, shuffle=True)"
   ]
  },
  {
   "cell_type": "code",
   "execution_count": 12,
   "metadata": {},
   "outputs": [
    {
     "name": "stdout",
     "output_type": "stream",
     "text": [
      "(76315, 8000)\n",
      "76315\n",
      "(19079, 8000)\n",
      "19079\n"
     ]
    }
   ],
   "source": [
    "print(train_wav.shape)\n",
    "print(len(train_label))\n",
    "print(test_wav.shape)\n",
    "print(len(test_label))"
   ]
  },
  {
   "cell_type": "markdown",
   "metadata": {},
   "source": [
    "### 1D Convolutional Network"
   ]
  },
  {
   "cell_type": "code",
   "execution_count": 73,
   "metadata": {},
   "outputs": [],
   "source": [
    "# Parameters\n",
    "generations = 20000\n",
    "num_gens_to_wait = 250\n",
    "batch_size = 512\n",
    "drop_out_rate = 0.5\n",
    "input_shape = (sample_rate,1)"
   ]
  },
  {
   "cell_type": "code",
   "execution_count": 74,
   "metadata": {},
   "outputs": [],
   "source": [
    "#For Conv1D add Channel\n",
    "train_wav = train_wav.reshape(-1, sample_rate, 1)\n",
    "test_wav = test_wav.reshape(-1, sample_rate, 1)"
   ]
  },
  {
   "cell_type": "code",
   "execution_count": 75,
   "metadata": {},
   "outputs": [
    {
     "name": "stdout",
     "output_type": "stream",
     "text": [
      "Train_Wav Demension : (76315, 8000, 1)\n",
      "Train_Label Demension : (76315, 11)\n",
      "Test_Wav Demension : (19079, 8000, 1)\n",
      "Test_Label Demension : (19079, 11)\n",
      "Number Of Labels : 11\n"
     ]
    }
   ],
   "source": [
    "# Verify all dimensions\n",
    "print('Train_Wav Demension : ' + str(np.shape(train_wav)))\n",
    "print('Train_Label Demension : ' + str(np.shape(train_label)))\n",
    "print('Test_Wav Demension : ' + str(np.shape(test_wav)))\n",
    "print('Test_Label Demension : ' + str(np.shape(test_label)))\n",
    "print('Number Of Labels : ' + str(len(label_value)))"
   ]
  },
  {
   "cell_type": "code",
   "execution_count": 76,
   "metadata": {},
   "outputs": [],
   "source": [
    "conv1d = Sequential()\n",
    "conv1d.add(Conv1D(8, 5, padding='same', activation='relu', strides=1, input_shape = input_shape))\n",
    "conv1d.add(MaxPooling1D(pool_size=(2)))\n",
    "conv1d.add(Dropout(.5))\n",
    "conv1d.add(Conv1D(16, 3, padding='same', activation='relu', strides=1))\n",
    "conv1d.add(MaxPooling1D(pool_size=(2)))\n",
    "conv1d.add(Dropout(.5))\n",
    "conv1d.add(Conv1D(32, 5, padding='same', activation='relu', strides=1))\n",
    "conv1d.add(MaxPooling1D(pool_size=(2)))\n",
    "conv1d.add(Dropout(.5))\n",
    "conv1d.add(Conv1D(64, 4, padding='same', activation='relu', strides=1))\n",
    "conv1d.add(MaxPooling1D(pool_size=(2)))\n",
    "conv1d.add(Dropout(.5))\n",
    "conv1d.add(Conv1D(128, 3, padding='same',activation='relu', strides=1))\n",
    "conv1d.add(MaxPooling1D(pool_size=(2)))\n",
    "conv1d.add(Flatten())\n",
    "conv1d.add(Dense(128, activation = 'relu'))\n",
    "conv1d.add(Dropout(.5))\n",
    "conv1d.add(Dense(11))\n",
    "conv1d.add(Activation('softmax'))\n",
    "\n",
    "cn_opt = keras.optimizers.Adam(lr=0.001)\n",
    "conv1d.compile(loss=keras.losses.categorical_crossentropy, optimizer=cn_opt, metrics=['accuracy'])"
   ]
  },
  {
   "cell_type": "code",
   "execution_count": 78,
   "metadata": {},
   "outputs": [
    {
     "name": "stdout",
     "output_type": "stream",
     "text": [
      "_________________________________________________________________\n",
      "Layer (type)                 Output Shape              Param #   \n",
      "=================================================================\n",
      "conv1d_1 (Conv1D)            (None, 8000, 8)           48        \n",
      "_________________________________________________________________\n",
      "max_pooling1d_1 (MaxPooling1 (None, 4000, 8)           0         \n",
      "_________________________________________________________________\n",
      "dropout_6 (Dropout)          (None, 4000, 8)           0         \n",
      "_________________________________________________________________\n",
      "conv1d_2 (Conv1D)            (None, 4000, 16)          400       \n",
      "_________________________________________________________________\n",
      "max_pooling1d_2 (MaxPooling1 (None, 2000, 16)          0         \n",
      "_________________________________________________________________\n",
      "dropout_7 (Dropout)          (None, 2000, 16)          0         \n",
      "_________________________________________________________________\n",
      "conv1d_3 (Conv1D)            (None, 2000, 32)          2592      \n",
      "_________________________________________________________________\n",
      "max_pooling1d_3 (MaxPooling1 (None, 1000, 32)          0         \n",
      "_________________________________________________________________\n",
      "dropout_8 (Dropout)          (None, 1000, 32)          0         \n",
      "_________________________________________________________________\n",
      "conv1d_4 (Conv1D)            (None, 1000, 64)          8256      \n",
      "_________________________________________________________________\n",
      "max_pooling1d_4 (MaxPooling1 (None, 500, 64)           0         \n",
      "_________________________________________________________________\n",
      "dropout_9 (Dropout)          (None, 500, 64)           0         \n",
      "_________________________________________________________________\n",
      "conv1d_5 (Conv1D)            (None, 500, 128)          24704     \n",
      "_________________________________________________________________\n",
      "max_pooling1d_5 (MaxPooling1 (None, 250, 128)          0         \n",
      "_________________________________________________________________\n",
      "flatten_6 (Flatten)          (None, 32000)             0         \n",
      "_________________________________________________________________\n",
      "dense_11 (Dense)             (None, 128)               4096128   \n",
      "_________________________________________________________________\n",
      "dropout_10 (Dropout)         (None, 128)               0         \n",
      "_________________________________________________________________\n",
      "dense_12 (Dense)             (None, 11)                1419      \n",
      "_________________________________________________________________\n",
      "activation_21 (Activation)   (None, 11)                0         \n",
      "=================================================================\n",
      "Total params: 4,133,547\n",
      "Trainable params: 4,133,547\n",
      "Non-trainable params: 0\n",
      "_________________________________________________________________\n"
     ]
    }
   ],
   "source": [
    "conv1d.summary()"
   ]
  },
  {
   "cell_type": "markdown",
   "metadata": {},
   "source": [
    "### Train 1D Conv on Raw WAV"
   ]
  },
  {
   "cell_type": "code",
   "execution_count": 80,
   "metadata": {},
   "outputs": [
    {
     "name": "stdout",
     "output_type": "stream",
     "text": [
      "Train on 76315 samples, validate on 19079 samples\n",
      "Epoch 1/100\n",
      "76315/76315 [==============================] - 11s 147us/step - loss: 1.5734 - acc: 0.6284 - val_loss: 1.5773 - val_acc: 0.6374\n",
      "Epoch 2/100\n",
      "76315/76315 [==============================] - 9s 119us/step - loss: 1.4563 - acc: 0.6324 - val_loss: 1.4588 - val_acc: 0.6374\n",
      "Epoch 3/100\n",
      "76315/76315 [==============================] - 9s 119us/step - loss: 1.3477 - acc: 0.6335 - val_loss: 1.4258 - val_acc: 0.6441\n",
      "Epoch 4/100\n",
      "76315/76315 [==============================] - 9s 118us/step - loss: 1.2712 - acc: 0.6378 - val_loss: 1.3432 - val_acc: 0.6365\n",
      "Epoch 5/100\n",
      "76315/76315 [==============================] - 9s 118us/step - loss: 1.2197 - acc: 0.6428 - val_loss: 1.3390 - val_acc: 0.6521\n",
      "Epoch 6/100\n",
      "76315/76315 [==============================] - 9s 118us/step - loss: 1.1762 - acc: 0.6456 - val_loss: 1.2048 - val_acc: 0.6576\n",
      "Epoch 7/100\n",
      "76315/76315 [==============================] - 9s 119us/step - loss: 1.1285 - acc: 0.6523 - val_loss: 1.2275 - val_acc: 0.6597\n",
      "Epoch 8/100\n",
      "76315/76315 [==============================] - 9s 119us/step - loss: 1.0732 - acc: 0.6633 - val_loss: 1.0894 - val_acc: 0.6810\n",
      "Epoch 9/100\n",
      "76315/76315 [==============================] - 9s 118us/step - loss: 1.0321 - acc: 0.6726 - val_loss: 1.0954 - val_acc: 0.6944\n",
      "Epoch 10/100\n",
      "76315/76315 [==============================] - 9s 119us/step - loss: 0.9901 - acc: 0.6808 - val_loss: 1.4078 - val_acc: 0.6804\n",
      "Epoch 11/100\n",
      "76315/76315 [==============================] - 9s 119us/step - loss: 0.9833 - acc: 0.6827 - val_loss: 1.4303 - val_acc: 0.6582\n",
      "Epoch 12/100\n",
      "76315/76315 [==============================] - 9s 119us/step - loss: 0.9532 - acc: 0.6898 - val_loss: 0.8713 - val_acc: 0.7249\n",
      "Epoch 13/100\n",
      "76315/76315 [==============================] - 9s 119us/step - loss: 0.9212 - acc: 0.6973 - val_loss: 1.3108 - val_acc: 0.6657\n",
      "Epoch 14/100\n",
      "76315/76315 [==============================] - 9s 119us/step - loss: 0.9077 - acc: 0.7014 - val_loss: 0.9460 - val_acc: 0.7260\n",
      "Epoch 15/100\n",
      "76315/76315 [==============================] - 9s 119us/step - loss: 0.8860 - acc: 0.7076 - val_loss: 0.9146 - val_acc: 0.7239\n",
      "Epoch 16/100\n",
      "76315/76315 [==============================] - 9s 119us/step - loss: 0.8721 - acc: 0.7113 - val_loss: 0.8997 - val_acc: 0.7259\n",
      "Epoch 17/100\n",
      "76315/76315 [==============================] - 9s 119us/step - loss: 0.8552 - acc: 0.7137 - val_loss: 0.9861 - val_acc: 0.7119\n",
      "Epoch 18/100\n",
      "76315/76315 [==============================] - 9s 118us/step - loss: 0.8364 - acc: 0.7205 - val_loss: 0.9594 - val_acc: 0.7266\n",
      "Epoch 19/100\n",
      "76315/76315 [==============================] - 9s 118us/step - loss: 0.8297 - acc: 0.7223 - val_loss: 0.8620 - val_acc: 0.7301\n",
      "Epoch 20/100\n",
      "76315/76315 [==============================] - 9s 119us/step - loss: 0.8198 - acc: 0.7259 - val_loss: 1.0758 - val_acc: 0.6907\n",
      "Epoch 21/100\n",
      "76315/76315 [==============================] - 9s 119us/step - loss: 0.8198 - acc: 0.7259 - val_loss: 0.8763 - val_acc: 0.7401\n",
      "Epoch 22/100\n",
      "76315/76315 [==============================] - 9s 119us/step - loss: 0.7978 - acc: 0.7318 - val_loss: 0.9776 - val_acc: 0.7282\n",
      "Epoch 23/100\n",
      "76315/76315 [==============================] - 9s 119us/step - loss: 0.7915 - acc: 0.7341 - val_loss: 0.8471 - val_acc: 0.7390\n",
      "Epoch 24/100\n",
      "76315/76315 [==============================] - 9s 118us/step - loss: 0.7810 - acc: 0.7346 - val_loss: 0.7876 - val_acc: 0.7565\n",
      "Epoch 25/100\n",
      "76315/76315 [==============================] - 9s 119us/step - loss: 0.7744 - acc: 0.7386 - val_loss: 0.7811 - val_acc: 0.7612\n",
      "Epoch 26/100\n",
      "76315/76315 [==============================] - 9s 119us/step - loss: 0.7630 - acc: 0.7404 - val_loss: 0.8630 - val_acc: 0.7437\n",
      "Epoch 27/100\n",
      "76315/76315 [==============================] - 9s 119us/step - loss: 0.7527 - acc: 0.7454 - val_loss: 0.7305 - val_acc: 0.7667\n",
      "Epoch 28/100\n",
      "76315/76315 [==============================] - 9s 119us/step - loss: 0.7457 - acc: 0.7471 - val_loss: 0.8150 - val_acc: 0.7581\n",
      "Epoch 29/100\n",
      "76315/76315 [==============================] - 9s 118us/step - loss: 0.7536 - acc: 0.7430 - val_loss: 0.8018 - val_acc: 0.7551\n",
      "Epoch 30/100\n",
      "76315/76315 [==============================] - 9s 118us/step - loss: 0.7351 - acc: 0.7491 - val_loss: 0.7470 - val_acc: 0.7690\n",
      "Epoch 31/100\n",
      "76315/76315 [==============================] - 9s 119us/step - loss: 0.7241 - acc: 0.7524 - val_loss: 0.8818 - val_acc: 0.7488\n",
      "Epoch 32/100\n",
      "76315/76315 [==============================] - 9s 119us/step - loss: 0.7180 - acc: 0.7558 - val_loss: 0.7503 - val_acc: 0.7657\n",
      "Epoch 33/100\n",
      "76315/76315 [==============================] - 9s 119us/step - loss: 0.7238 - acc: 0.7530 - val_loss: 0.7309 - val_acc: 0.7727\n",
      "Epoch 34/100\n",
      "76315/76315 [==============================] - 9s 118us/step - loss: 0.7025 - acc: 0.7587 - val_loss: 0.7145 - val_acc: 0.7741\n",
      "Epoch 35/100\n",
      "76315/76315 [==============================] - 9s 118us/step - loss: 0.6998 - acc: 0.7611 - val_loss: 0.7489 - val_acc: 0.7703\n",
      "Epoch 36/100\n",
      "76315/76315 [==============================] - 9s 119us/step - loss: 0.6963 - acc: 0.7600 - val_loss: 0.8149 - val_acc: 0.7565\n",
      "Epoch 37/100\n",
      "76315/76315 [==============================] - 9s 118us/step - loss: 0.6888 - acc: 0.7632 - val_loss: 0.6978 - val_acc: 0.7854\n",
      "Epoch 38/100\n",
      "76315/76315 [==============================] - 9s 119us/step - loss: 0.6815 - acc: 0.7636 - val_loss: 0.6980 - val_acc: 0.7793\n",
      "Epoch 39/100\n",
      "76315/76315 [==============================] - 9s 119us/step - loss: 0.6729 - acc: 0.7689 - val_loss: 0.6572 - val_acc: 0.7913\n",
      "Epoch 40/100\n",
      "76315/76315 [==============================] - 9s 119us/step - loss: 0.6710 - acc: 0.7660 - val_loss: 0.6875 - val_acc: 0.7836\n",
      "Epoch 41/100\n",
      "76315/76315 [==============================] - 9s 119us/step - loss: 0.6611 - acc: 0.7693 - val_loss: 0.7163 - val_acc: 0.7757\n",
      "Epoch 42/100\n",
      "76315/76315 [==============================] - 9s 118us/step - loss: 0.6597 - acc: 0.7705 - val_loss: 0.7484 - val_acc: 0.7730\n",
      "Epoch 43/100\n",
      "76315/76315 [==============================] - 9s 119us/step - loss: 0.6563 - acc: 0.7715 - val_loss: 0.7527 - val_acc: 0.7755\n",
      "Epoch 44/100\n",
      "76315/76315 [==============================] - 9s 119us/step - loss: 0.6450 - acc: 0.7734 - val_loss: 0.7127 - val_acc: 0.7860\n",
      "Epoch 45/100\n",
      "76315/76315 [==============================] - 9s 119us/step - loss: 0.6418 - acc: 0.7756 - val_loss: 0.7201 - val_acc: 0.7762\n",
      "Epoch 46/100\n",
      "76315/76315 [==============================] - 9s 119us/step - loss: 0.6360 - acc: 0.7769 - val_loss: 0.6654 - val_acc: 0.7913\n",
      "Epoch 47/100\n",
      "76315/76315 [==============================] - 9s 119us/step - loss: 0.6336 - acc: 0.7781 - val_loss: 0.6975 - val_acc: 0.7864\n",
      "Epoch 48/100\n",
      "76315/76315 [==============================] - 9s 119us/step - loss: 0.6304 - acc: 0.7789 - val_loss: 0.6939 - val_acc: 0.7906\n",
      "Epoch 49/100\n",
      "76315/76315 [==============================] - 9s 118us/step - loss: 0.6260 - acc: 0.7819 - val_loss: 0.6787 - val_acc: 0.7950\n",
      "Epoch 50/100\n",
      "76315/76315 [==============================] - 9s 119us/step - loss: 0.6208 - acc: 0.7815 - val_loss: 0.6648 - val_acc: 0.7970\n",
      "Epoch 51/100\n",
      "76315/76315 [==============================] - 9s 118us/step - loss: 0.6224 - acc: 0.7823 - val_loss: 0.7643 - val_acc: 0.7808\n",
      "Epoch 52/100\n",
      "76315/76315 [==============================] - 9s 119us/step - loss: 0.6094 - acc: 0.7850 - val_loss: 0.6569 - val_acc: 0.8011\n",
      "Epoch 53/100\n",
      "76315/76315 [==============================] - 9s 119us/step - loss: 0.6038 - acc: 0.7860 - val_loss: 0.7280 - val_acc: 0.7841\n",
      "Epoch 54/100\n",
      "76315/76315 [==============================] - 9s 118us/step - loss: 0.6016 - acc: 0.7872 - val_loss: 0.7018 - val_acc: 0.7914\n",
      "Epoch 55/100\n",
      "76315/76315 [==============================] - 9s 119us/step - loss: 0.6015 - acc: 0.7869 - val_loss: 0.6986 - val_acc: 0.7942\n",
      "Epoch 56/100\n",
      "76315/76315 [==============================] - 9s 119us/step - loss: 0.5864 - acc: 0.7925 - val_loss: 0.6792 - val_acc: 0.7987\n",
      "Epoch 57/100\n",
      "76315/76315 [==============================] - 9s 118us/step - loss: 0.5923 - acc: 0.7908 - val_loss: 0.6358 - val_acc: 0.8047\n",
      "Epoch 58/100\n",
      "76315/76315 [==============================] - 9s 118us/step - loss: 0.5913 - acc: 0.7910 - val_loss: 0.6440 - val_acc: 0.8050\n",
      "Epoch 59/100\n"
     ]
    },
    {
     "name": "stdout",
     "output_type": "stream",
     "text": [
      "76315/76315 [==============================] - 9s 118us/step - loss: 0.5832 - acc: 0.7918 - val_loss: 0.7050 - val_acc: 0.7979\n",
      "Epoch 60/100\n",
      "76315/76315 [==============================] - 9s 118us/step - loss: 0.5819 - acc: 0.7934 - val_loss: 0.7119 - val_acc: 0.7947\n",
      "Epoch 61/100\n",
      "76315/76315 [==============================] - 9s 119us/step - loss: 0.5725 - acc: 0.7961 - val_loss: 0.6997 - val_acc: 0.7940\n",
      "Epoch 62/100\n",
      "76315/76315 [==============================] - 9s 118us/step - loss: 0.5711 - acc: 0.7963 - val_loss: 0.6538 - val_acc: 0.8055\n",
      "Epoch 63/100\n",
      "76315/76315 [==============================] - 9s 119us/step - loss: 0.5670 - acc: 0.7982 - val_loss: 0.7363 - val_acc: 0.7896\n",
      "Epoch 64/100\n",
      "76315/76315 [==============================] - 9s 119us/step - loss: 0.5620 - acc: 0.7975 - val_loss: 0.7149 - val_acc: 0.7928\n",
      "Epoch 65/100\n",
      "76315/76315 [==============================] - 9s 119us/step - loss: 0.5735 - acc: 0.7956 - val_loss: 0.6949 - val_acc: 0.7983\n",
      "Epoch 66/100\n",
      "76315/76315 [==============================] - 9s 119us/step - loss: 0.5584 - acc: 0.8012 - val_loss: 0.6793 - val_acc: 0.8042\n",
      "Epoch 67/100\n",
      "76315/76315 [==============================] - 9s 118us/step - loss: 0.5694 - acc: 0.7969 - val_loss: 0.7627 - val_acc: 0.7867\n",
      "Epoch 68/100\n",
      "76315/76315 [==============================] - 9s 119us/step - loss: 0.5532 - acc: 0.8027 - val_loss: 0.7314 - val_acc: 0.7929\n",
      "Epoch 69/100\n",
      "76315/76315 [==============================] - 9s 119us/step - loss: 0.5453 - acc: 0.8041 - val_loss: 0.6689 - val_acc: 0.8053\n",
      "Epoch 70/100\n",
      "76315/76315 [==============================] - 9s 119us/step - loss: 0.5542 - acc: 0.8014 - val_loss: 0.6546 - val_acc: 0.8060\n",
      "Epoch 71/100\n",
      "76315/76315 [==============================] - 9s 119us/step - loss: 0.5464 - acc: 0.8036 - val_loss: 0.7191 - val_acc: 0.7966\n",
      "Epoch 72/100\n",
      "76315/76315 [==============================] - 9s 119us/step - loss: 0.5451 - acc: 0.8041 - val_loss: 0.7326 - val_acc: 0.7934\n",
      "Epoch 73/100\n",
      "76315/76315 [==============================] - 9s 119us/step - loss: 0.5369 - acc: 0.8070 - val_loss: 0.6316 - val_acc: 0.8173\n",
      "Epoch 74/100\n",
      "76315/76315 [==============================] - 9s 119us/step - loss: 0.5339 - acc: 0.8078 - val_loss: 0.6756 - val_acc: 0.8062\n",
      "Epoch 75/100\n",
      "76315/76315 [==============================] - 9s 118us/step - loss: 0.5323 - acc: 0.8077 - val_loss: 0.7866 - val_acc: 0.7885\n",
      "Epoch 76/100\n",
      "76315/76315 [==============================] - 9s 118us/step - loss: 0.5319 - acc: 0.8079 - val_loss: 0.6774 - val_acc: 0.8064\n",
      "Epoch 77/100\n",
      "76315/76315 [==============================] - 9s 118us/step - loss: 0.5277 - acc: 0.8091 - val_loss: 0.6756 - val_acc: 0.8067\n",
      "Epoch 78/100\n",
      "76315/76315 [==============================] - 9s 119us/step - loss: 0.5200 - acc: 0.8123 - val_loss: 0.6912 - val_acc: 0.8010\n",
      "Epoch 79/100\n",
      "76315/76315 [==============================] - 9s 118us/step - loss: 0.5240 - acc: 0.8110 - val_loss: 0.7318 - val_acc: 0.7993\n",
      "Epoch 80/100\n",
      "76315/76315 [==============================] - 9s 119us/step - loss: 0.5181 - acc: 0.8133 - val_loss: 0.8406 - val_acc: 0.7764\n",
      "Epoch 81/100\n",
      "76315/76315 [==============================] - 9s 119us/step - loss: 0.5184 - acc: 0.8110 - val_loss: 0.7259 - val_acc: 0.7984\n",
      "Epoch 82/100\n",
      "76315/76315 [==============================] - 9s 119us/step - loss: 0.5115 - acc: 0.8134 - val_loss: 0.6908 - val_acc: 0.8054\n",
      "Epoch 83/100\n",
      "76315/76315 [==============================] - 9s 119us/step - loss: 0.5184 - acc: 0.8128 - val_loss: 0.7718 - val_acc: 0.7898\n",
      "Epoch 84/100\n",
      "76315/76315 [==============================] - 9s 119us/step - loss: 0.5112 - acc: 0.8131 - val_loss: 0.7044 - val_acc: 0.8047\n",
      "Epoch 85/100\n",
      "76315/76315 [==============================] - 9s 119us/step - loss: 0.5116 - acc: 0.8137 - val_loss: 0.7510 - val_acc: 0.7982\n",
      "Epoch 86/100\n",
      "76315/76315 [==============================] - 9s 118us/step - loss: 0.5128 - acc: 0.8115 - val_loss: 0.6958 - val_acc: 0.8045\n",
      "Epoch 87/100\n",
      "76315/76315 [==============================] - 9s 118us/step - loss: 0.5015 - acc: 0.8164 - val_loss: 0.7169 - val_acc: 0.8004\n",
      "Epoch 88/100\n",
      "76315/76315 [==============================] - 9s 119us/step - loss: 0.4956 - acc: 0.8197 - val_loss: 0.7212 - val_acc: 0.8043\n",
      "Epoch 89/100\n",
      "76315/76315 [==============================] - 9s 119us/step - loss: 0.5068 - acc: 0.8160 - val_loss: 0.7442 - val_acc: 0.7977\n",
      "Epoch 90/100\n",
      "76315/76315 [==============================] - 9s 119us/step - loss: 0.5000 - acc: 0.8183 - val_loss: 0.7402 - val_acc: 0.8025\n",
      "Epoch 91/100\n",
      "76315/76315 [==============================] - 9s 119us/step - loss: 0.4953 - acc: 0.8213 - val_loss: 0.7329 - val_acc: 0.8046\n",
      "Epoch 92/100\n",
      "76315/76315 [==============================] - 9s 119us/step - loss: 0.4864 - acc: 0.8209 - val_loss: 0.9836 - val_acc: 0.7569\n",
      "Epoch 93/100\n",
      "76315/76315 [==============================] - 9s 119us/step - loss: 0.4940 - acc: 0.8187 - val_loss: 0.6970 - val_acc: 0.8031\n",
      "Epoch 94/100\n",
      "76315/76315 [==============================] - 9s 118us/step - loss: 0.4918 - acc: 0.8205 - val_loss: 0.7097 - val_acc: 0.8075\n",
      "Epoch 95/100\n",
      "76315/76315 [==============================] - 9s 118us/step - loss: 0.4846 - acc: 0.8224 - val_loss: 0.7307 - val_acc: 0.8012\n",
      "Epoch 96/100\n",
      "76315/76315 [==============================] - 9s 119us/step - loss: 0.4811 - acc: 0.8242 - val_loss: 0.7510 - val_acc: 0.7984\n",
      "Epoch 97/100\n",
      "76315/76315 [==============================] - 9s 118us/step - loss: 0.4778 - acc: 0.8241 - val_loss: 0.7186 - val_acc: 0.8019\n",
      "Epoch 98/100\n",
      "76315/76315 [==============================] - 9s 118us/step - loss: 0.4795 - acc: 0.8249 - val_loss: 0.7269 - val_acc: 0.8060\n",
      "Epoch 99/100\n",
      "76315/76315 [==============================] - 9s 119us/step - loss: 0.4853 - acc: 0.8224 - val_loss: 0.6742 - val_acc: 0.8125\n",
      "Epoch 100/100\n",
      "76315/76315 [==============================] - 9s 119us/step - loss: 0.4835 - acc: 0.8227 - val_loss: 0.8205 - val_acc: 0.7882\n"
     ]
    }
   ],
   "source": [
    "cn_history = conv1d.fit(train_wav, train_label, validation_data=[test_wav, test_label], batch_size=batch_size, epochs=100, verbose=1)"
   ]
  },
  {
   "cell_type": "code",
   "execution_count": 81,
   "metadata": {},
   "outputs": [
    {
     "data": {
      "image/png": "[encoded data removed]",
      "text/plain": [
       "<Figure size 432x288 with 1 Axes>"
      ]
     },
     "metadata": {},
     "output_type": "display_data"
    },
    {
     "data": {
      "image/png": "[encoded data removed]",
      "text/plain": [
       "<Figure size 432x288 with 1 Axes>"
      ]
     },
     "metadata": {},
     "output_type": "display_data"
    }
   ],
   "source": [
    "plt.rcParams['figure.figsize'] = (6,4)\n",
    "\n",
    "# summarize cn_history for accuracy\n",
    "plt.plot(cn_history.history['acc'])\n",
    "plt.plot(cn_history.history['val_acc'])\n",
    "plt.title('Simple Conv Accuracy')\n",
    "plt.ylabel('accuracy')\n",
    "plt.xlabel('epoch')\n",
    "plt.legend(['train', 'test'], loc='upper left')\n",
    "plt.show()\n",
    "\n",
    "# summarize cn_history for loss\n",
    "plt.plot(cn_history.history['loss'])\n",
    "plt.plot(cn_history.history['val_loss'])\n",
    "plt.title('Simple Conv Loss')\n",
    "plt.ylabel('loss')\n",
    "plt.xlabel('epoch')\n",
    "plt.legend(['train', 'test'], loc='upper left')\n",
    "plt.show()"
   ]
  },
  {
   "cell_type": "markdown",
   "metadata": {},
   "source": [
    "### 2D LeNet5 Network on MFCC"
   ]
  },
  {
   "cell_type": "code",
   "execution_count": 51,
   "metadata": {},
   "outputs": [
    {
     "name": "stdout",
     "output_type": "stream",
     "text": [
      "(20, 16)\n",
      "(128, 16)\n"
     ]
    }
   ],
   "source": [
    "mfccs1 = librosa.feature.mfcc(wav_vals[25], 8000)\n",
    "mfccs2 = librosa.feature.melspectrogram(wav_vals[150], 8000)\n",
    "print(mfccs1.shape)\n",
    "print(mfccs2.shape)"
   ]
  },
  {
   "cell_type": "code",
   "execution_count": 48,
   "metadata": {},
   "outputs": [
    {
     "name": "stdout",
     "output_type": "stream",
     "text": [
      "(95394, 20, 16)\n"
     ]
    }
   ],
   "source": [
    "def mfcc(row):\n",
    "    \"\"\"\n",
    "    input - 1d row of wav_vals array\n",
    "    output - 2d array of mfcc coefficients\n",
    "    \"\"\"\n",
    "    return librosa.feature.mfcc(row, 8000)\n",
    "\n",
    "mfcc_array = np.apply_along_axis(mfcc, axis=1, arr = wav_vals)\n",
    "print(mfcc_array.shape)"
   ]
  },
  {
   "cell_type": "code",
   "execution_count": 54,
   "metadata": {},
   "outputs": [],
   "source": [
    "Xtrain_ln5, Xtest_ln5, Ytrain_ln5, Ytest_ln5 = train_test_split(mfcc_array, label_vals, test_size=0.2, random_state = 2019, shuffle=True)"
   ]
  },
  {
   "cell_type": "code",
   "execution_count": 55,
   "metadata": {},
   "outputs": [
    {
     "name": "stdout",
     "output_type": "stream",
     "text": [
      "('Xtrain_ln5.shape:', (76315, 20, 16, 1))\n",
      "('Xtest_ln5.shape:', (19079, 20, 16, 1))\n",
      "('Ytrain_ln5.shape:', (76315, 11))\n",
      "('Ytest_ln5.shape:', (19079, 11))\n"
     ]
    }
   ],
   "source": [
    "Xtrain_ln5 = Xtrain_ln5[..., np.newaxis]\n",
    "Xtest_ln5 = Xtest_ln5[..., np.newaxis]\n",
    "\n",
    "print(\"Xtrain_ln5.shape:\", Xtrain_ln5.shape)\n",
    "print(\"Xtest_ln5.shape:\", Xtest_ln5.shape)\n",
    "print(\"Ytrain_ln5.shape:\", Ytrain_ln5.shape)\n",
    "print(\"Ytest_ln5.shape:\", Ytest_ln5.shape)"
   ]
  },
  {
   "cell_type": "code",
   "execution_count": 62,
   "metadata": {},
   "outputs": [],
   "source": [
    "lenet5 = Sequential()\n",
    "lenet5.add(Conv2D(32, (5,5), padding = 'same', input_shape = Xtrain_ln5.shape[1:]))\n",
    "lenet5.add(Activation('relu'))\n",
    "lenet5.add(MaxPooling2D(pool_size=(2, 2)))\n",
    "lenet5.add(Conv2D(64, (5, 5), padding='same'))\n",
    "lenet5.add(Activation('relu'))\n",
    "lenet5.add(MaxPooling2D(pool_size=(2, 2)))\n",
    "lenet5.add(Flatten())\n",
    "lenet5.add(Dense(1024))\n",
    "lenet5.add(Activation('relu'))\n",
    "lenet5.add(Dropout(0.5))\n",
    "lenet5.add(Dense(11))\n",
    "lenet5.add(Activation('softmax'))\n",
    "\n",
    "# ln_opt = keras.optimizers.Adam(lr=0.0001)\n",
    "ln_opt = keras.optimizers.RMSprop(lr=0.0001, decay=1e-6)\n",
    "lenet5.compile(loss='categorical_crossentropy', optimizer=ln_opt, metrics=['accuracy'])"
   ]
  },
  {
   "cell_type": "code",
   "execution_count": 63,
   "metadata": {},
   "outputs": [
    {
     "name": "stdout",
     "output_type": "stream",
     "text": [
      "_________________________________________________________________\n",
      "Layer (type)                 Output Shape              Param #   \n",
      "=================================================================\n",
      "conv2d_9 (Conv2D)            (None, 20, 16, 32)        832       \n",
      "_________________________________________________________________\n",
      "activation_17 (Activation)   (None, 20, 16, 32)        0         \n",
      "_________________________________________________________________\n",
      "max_pooling2d_9 (MaxPooling2 (None, 10, 8, 32)         0         \n",
      "_________________________________________________________________\n",
      "conv2d_10 (Conv2D)           (None, 10, 8, 64)         51264     \n",
      "_________________________________________________________________\n",
      "activation_18 (Activation)   (None, 10, 8, 64)         0         \n",
      "_________________________________________________________________\n",
      "max_pooling2d_10 (MaxPooling (None, 5, 4, 64)          0         \n",
      "_________________________________________________________________\n",
      "flatten_5 (Flatten)          (None, 1280)              0         \n",
      "_________________________________________________________________\n",
      "dense_9 (Dense)              (None, 1024)              1311744   \n",
      "_________________________________________________________________\n",
      "activation_19 (Activation)   (None, 1024)              0         \n",
      "_________________________________________________________________\n",
      "dropout_5 (Dropout)          (None, 1024)              0         \n",
      "_________________________________________________________________\n",
      "dense_10 (Dense)             (None, 11)                11275     \n",
      "_________________________________________________________________\n",
      "activation_20 (Activation)   (None, 11)                0         \n",
      "=================================================================\n",
      "Total params: 1,375,115\n",
      "Trainable params: 1,375,115\n",
      "Non-trainable params: 0\n",
      "_________________________________________________________________\n"
     ]
    }
   ],
   "source": [
    "lenet5.summary()"
   ]
  },
  {
   "cell_type": "markdown",
   "metadata": {},
   "source": [
    "### Train 2D LeNet5 "
   ]
  },
  {
   "cell_type": "code",
   "execution_count": 64,
   "metadata": {},
   "outputs": [
    {
     "name": "stdout",
     "output_type": "stream",
     "text": [
      "Train on 76315 samples, validate on 19079 samples\n",
      "Epoch 1/100\n",
      "76315/76315 [==============================] - 2s 24us/step - loss: 5.9927 - acc: 0.6269 - val_loss: 5.8443 - val_acc: 0.6374\n",
      "Epoch 2/100\n",
      "76315/76315 [==============================] - 1s 12us/step - loss: 4.9544 - acc: 0.5887 - val_loss: 1.3051 - val_acc: 0.6254\n",
      "Epoch 3/100\n",
      "76315/76315 [==============================] - 1s 12us/step - loss: 1.1649 - acc: 0.6578 - val_loss: 0.8937 - val_acc: 0.7193\n",
      "Epoch 4/100\n",
      "76315/76315 [==============================] - 1s 12us/step - loss: 0.8161 - acc: 0.7386 - val_loss: 0.6921 - val_acc: 0.7799\n",
      "Epoch 5/100\n",
      "76315/76315 [==============================] - 1s 12us/step - loss: 0.6708 - acc: 0.7833 - val_loss: 0.6396 - val_acc: 0.7864\n",
      "Epoch 6/100\n",
      "76315/76315 [==============================] - 1s 12us/step - loss: 0.5796 - acc: 0.8099 - val_loss: 0.5550 - val_acc: 0.8150\n",
      "Epoch 7/100\n",
      "76315/76315 [==============================] - 1s 12us/step - loss: 0.5151 - acc: 0.8312 - val_loss: 0.4803 - val_acc: 0.8452\n",
      "Epoch 8/100\n",
      "76315/76315 [==============================] - 1s 12us/step - loss: 0.4660 - acc: 0.8473 - val_loss: 0.4692 - val_acc: 0.8451\n",
      "Epoch 9/100\n",
      "76315/76315 [==============================] - 1s 12us/step - loss: 0.4261 - acc: 0.8592 - val_loss: 0.4268 - val_acc: 0.8596\n",
      "Epoch 10/100\n",
      "76315/76315 [==============================] - 1s 12us/step - loss: 0.3943 - acc: 0.8693 - val_loss: 0.4063 - val_acc: 0.8689\n",
      "Epoch 11/100\n",
      "76315/76315 [==============================] - 1s 12us/step - loss: 0.3641 - acc: 0.8789 - val_loss: 0.4556 - val_acc: 0.8450\n",
      "Epoch 12/100\n",
      "76315/76315 [==============================] - 1s 12us/step - loss: 0.3420 - acc: 0.8862 - val_loss: 0.3687 - val_acc: 0.8781\n",
      "Epoch 13/100\n",
      "76315/76315 [==============================] - 1s 12us/step - loss: 0.3208 - acc: 0.8937 - val_loss: 0.3928 - val_acc: 0.8732\n",
      "Epoch 14/100\n",
      "76315/76315 [==============================] - 1s 12us/step - loss: 0.2985 - acc: 0.8998 - val_loss: 0.3228 - val_acc: 0.8927\n",
      "Epoch 15/100\n",
      "76315/76315 [==============================] - 1s 12us/step - loss: 0.2835 - acc: 0.9049 - val_loss: 0.4087 - val_acc: 0.8695\n",
      "Epoch 16/100\n",
      "76315/76315 [==============================] - 1s 12us/step - loss: 0.2664 - acc: 0.9109 - val_loss: 0.3433 - val_acc: 0.8868\n",
      "Epoch 17/100\n",
      "76315/76315 [==============================] - 1s 12us/step - loss: 0.2491 - acc: 0.9166 - val_loss: 0.4708 - val_acc: 0.8573\n",
      "Epoch 18/100\n",
      "76315/76315 [==============================] - 1s 12us/step - loss: 0.2376 - acc: 0.9197 - val_loss: 0.3873 - val_acc: 0.8765\n",
      "Epoch 19/100\n",
      "76315/76315 [==============================] - 1s 12us/step - loss: 0.2247 - acc: 0.9240 - val_loss: 0.3008 - val_acc: 0.9031\n",
      "Epoch 20/100\n",
      "76315/76315 [==============================] - 1s 12us/step - loss: 0.2125 - acc: 0.9280 - val_loss: 0.3076 - val_acc: 0.8994\n",
      "Epoch 21/100\n",
      "76315/76315 [==============================] - 1s 12us/step - loss: 0.2003 - acc: 0.9322 - val_loss: 0.4138 - val_acc: 0.8786\n",
      "Epoch 22/100\n",
      "76315/76315 [==============================] - 1s 12us/step - loss: 0.1907 - acc: 0.9360 - val_loss: 0.3245 - val_acc: 0.9001\n",
      "Epoch 23/100\n",
      "76315/76315 [==============================] - 1s 12us/step - loss: 0.1816 - acc: 0.9388 - val_loss: 0.2981 - val_acc: 0.9043\n",
      "Epoch 24/100\n",
      "76315/76315 [==============================] - 1s 12us/step - loss: 0.1728 - acc: 0.9424 - val_loss: 0.3808 - val_acc: 0.8875\n",
      "Epoch 25/100\n",
      "76315/76315 [==============================] - 1s 12us/step - loss: 0.1645 - acc: 0.9449 - val_loss: 0.3384 - val_acc: 0.8985\n",
      "Epoch 26/100\n",
      "76315/76315 [==============================] - 1s 12us/step - loss: 0.1567 - acc: 0.9473 - val_loss: 0.3504 - val_acc: 0.8977\n",
      "Epoch 27/100\n",
      "76315/76315 [==============================] - 1s 12us/step - loss: 0.1475 - acc: 0.9510 - val_loss: 0.3267 - val_acc: 0.9043\n",
      "Epoch 28/100\n",
      "76315/76315 [==============================] - 1s 12us/step - loss: 0.1412 - acc: 0.9520 - val_loss: 0.3105 - val_acc: 0.9004\n",
      "Epoch 29/100\n",
      "76315/76315 [==============================] - 1s 12us/step - loss: 0.1352 - acc: 0.9538 - val_loss: 0.3272 - val_acc: 0.9008\n",
      "Epoch 30/100\n",
      "76315/76315 [==============================] - 1s 12us/step - loss: 0.1275 - acc: 0.9566 - val_loss: 0.3430 - val_acc: 0.8997\n",
      "Epoch 31/100\n",
      "76315/76315 [==============================] - 1s 12us/step - loss: 0.1234 - acc: 0.9578 - val_loss: 0.2761 - val_acc: 0.9183\n",
      "Epoch 32/100\n",
      "76315/76315 [==============================] - 1s 12us/step - loss: 0.1148 - acc: 0.9612 - val_loss: 0.2871 - val_acc: 0.9123\n",
      "Epoch 33/100\n",
      "76315/76315 [==============================] - 1s 12us/step - loss: 0.1107 - acc: 0.9624 - val_loss: 0.2872 - val_acc: 0.9153\n",
      "Epoch 34/100\n",
      "76315/76315 [==============================] - 1s 12us/step - loss: 0.1047 - acc: 0.9649 - val_loss: 0.2802 - val_acc: 0.9176\n",
      "Epoch 35/100\n",
      "76315/76315 [==============================] - 1s 12us/step - loss: 0.1009 - acc: 0.9664 - val_loss: 0.3165 - val_acc: 0.9116\n",
      "Epoch 36/100\n",
      "76315/76315 [==============================] - 1s 12us/step - loss: 0.0950 - acc: 0.9680 - val_loss: 0.2860 - val_acc: 0.9178\n",
      "Epoch 37/100\n",
      "76315/76315 [==============================] - 1s 12us/step - loss: 0.0904 - acc: 0.9694 - val_loss: 0.4035 - val_acc: 0.8994\n",
      "Epoch 38/100\n",
      "76315/76315 [==============================] - 1s 12us/step - loss: 0.0835 - acc: 0.9723 - val_loss: 0.3244 - val_acc: 0.9054\n",
      "Epoch 39/100\n",
      "76315/76315 [==============================] - 1s 12us/step - loss: 0.0823 - acc: 0.9723 - val_loss: 0.3034 - val_acc: 0.9147\n",
      "Epoch 40/100\n",
      "76315/76315 [==============================] - 1s 12us/step - loss: 0.0785 - acc: 0.9739 - val_loss: 0.3030 - val_acc: 0.9147\n",
      "Epoch 41/100\n",
      "76315/76315 [==============================] - 1s 12us/step - loss: 0.0755 - acc: 0.9742 - val_loss: 0.3177 - val_acc: 0.9114\n",
      "Epoch 42/100\n",
      "76315/76315 [==============================] - 1s 12us/step - loss: 0.0714 - acc: 0.9762 - val_loss: 0.3412 - val_acc: 0.9120\n",
      "Epoch 43/100\n",
      "76315/76315 [==============================] - 1s 12us/step - loss: 0.0676 - acc: 0.9775 - val_loss: 0.4311 - val_acc: 0.8787\n",
      "Epoch 44/100\n",
      "76315/76315 [==============================] - 1s 12us/step - loss: 0.0670 - acc: 0.9780 - val_loss: 0.3594 - val_acc: 0.9104\n",
      "Epoch 45/100\n",
      "76315/76315 [==============================] - 1s 12us/step - loss: 0.0625 - acc: 0.9791 - val_loss: 0.3616 - val_acc: 0.9048\n",
      "Epoch 46/100\n",
      "76315/76315 [==============================] - 1s 12us/step - loss: 0.0609 - acc: 0.9795 - val_loss: 0.2970 - val_acc: 0.9203\n",
      "Epoch 47/100\n",
      "76315/76315 [==============================] - 1s 12us/step - loss: 0.0576 - acc: 0.9806 - val_loss: 0.3103 - val_acc: 0.9166\n",
      "Epoch 48/100\n",
      "76315/76315 [==============================] - 1s 12us/step - loss: 0.0549 - acc: 0.9818 - val_loss: 0.3163 - val_acc: 0.9209\n",
      "Epoch 49/100\n",
      "76315/76315 [==============================] - 1s 12us/step - loss: 0.0544 - acc: 0.9824 - val_loss: 0.3160 - val_acc: 0.9188\n",
      "Epoch 50/100\n",
      "76315/76315 [==============================] - 1s 12us/step - loss: 0.0508 - acc: 0.9832 - val_loss: 0.3406 - val_acc: 0.9144\n",
      "Epoch 51/100\n",
      "76315/76315 [==============================] - 1s 12us/step - loss: 0.0485 - acc: 0.9841 - val_loss: 0.3271 - val_acc: 0.9113\n",
      "Epoch 52/100\n",
      "76315/76315 [==============================] - 1s 12us/step - loss: 0.0478 - acc: 0.9846 - val_loss: 0.3179 - val_acc: 0.9187\n",
      "Epoch 53/100\n",
      "76315/76315 [==============================] - 1s 12us/step - loss: 0.0472 - acc: 0.9847 - val_loss: 0.3314 - val_acc: 0.9151\n",
      "Epoch 54/100\n",
      "76315/76315 [==============================] - 1s 12us/step - loss: 0.0447 - acc: 0.9852 - val_loss: 0.3160 - val_acc: 0.9198\n",
      "Epoch 55/100\n",
      "76315/76315 [==============================] - 1s 12us/step - loss: 0.0429 - acc: 0.9862 - val_loss: 0.3532 - val_acc: 0.9141\n",
      "Epoch 56/100\n",
      "76315/76315 [==============================] - 1s 12us/step - loss: 0.0423 - acc: 0.9864 - val_loss: 0.4125 - val_acc: 0.9060\n",
      "Epoch 57/100\n",
      "76315/76315 [==============================] - 1s 12us/step - loss: 0.0410 - acc: 0.9869 - val_loss: 0.3813 - val_acc: 0.9060\n",
      "Epoch 58/100\n",
      "76315/76315 [==============================] - 1s 12us/step - loss: 0.0388 - acc: 0.9874 - val_loss: 0.3248 - val_acc: 0.9195\n",
      "Epoch 59/100\n"
     ]
    },
    {
     "name": "stdout",
     "output_type": "stream",
     "text": [
      "76315/76315 [==============================] - 1s 12us/step - loss: 0.0375 - acc: 0.9882 - val_loss: 0.4387 - val_acc: 0.9118\n",
      "Epoch 60/100\n",
      "76315/76315 [==============================] - 1s 12us/step - loss: 0.0373 - acc: 0.9877 - val_loss: 0.3321 - val_acc: 0.9221\n",
      "Epoch 61/100\n",
      "76315/76315 [==============================] - 1s 12us/step - loss: 0.0345 - acc: 0.9888 - val_loss: 0.3401 - val_acc: 0.9204\n",
      "Epoch 62/100\n",
      "76315/76315 [==============================] - 1s 12us/step - loss: 0.0360 - acc: 0.9881 - val_loss: 0.3052 - val_acc: 0.9255\n",
      "Epoch 63/100\n",
      "76315/76315 [==============================] - 1s 12us/step - loss: 0.0333 - acc: 0.9892 - val_loss: 0.3121 - val_acc: 0.9248\n",
      "Epoch 64/100\n",
      "76315/76315 [==============================] - 1s 12us/step - loss: 0.0327 - acc: 0.9896 - val_loss: 0.3595 - val_acc: 0.9184\n",
      "Epoch 65/100\n",
      "76315/76315 [==============================] - 1s 12us/step - loss: 0.0317 - acc: 0.9897 - val_loss: 0.3728 - val_acc: 0.9180\n",
      "Epoch 66/100\n",
      "76315/76315 [==============================] - 1s 12us/step - loss: 0.0306 - acc: 0.9900 - val_loss: 0.4373 - val_acc: 0.9100\n",
      "Epoch 67/100\n",
      "76315/76315 [==============================] - 1s 12us/step - loss: 0.0292 - acc: 0.9906 - val_loss: 0.3359 - val_acc: 0.9223\n",
      "Epoch 68/100\n",
      "76315/76315 [==============================] - 1s 12us/step - loss: 0.0286 - acc: 0.9908 - val_loss: 0.3252 - val_acc: 0.9227\n",
      "Epoch 69/100\n",
      "76315/76315 [==============================] - 1s 12us/step - loss: 0.0266 - acc: 0.9917 - val_loss: 0.3769 - val_acc: 0.9181\n",
      "Epoch 70/100\n",
      "76315/76315 [==============================] - 1s 12us/step - loss: 0.0273 - acc: 0.9912 - val_loss: 0.3698 - val_acc: 0.9176\n",
      "Epoch 71/100\n",
      "76315/76315 [==============================] - 1s 12us/step - loss: 0.0261 - acc: 0.9916 - val_loss: 0.4752 - val_acc: 0.9108\n",
      "Epoch 72/100\n",
      "76315/76315 [==============================] - 1s 12us/step - loss: 0.0266 - acc: 0.9913 - val_loss: 0.3546 - val_acc: 0.9222\n",
      "Epoch 73/100\n",
      "76315/76315 [==============================] - 1s 12us/step - loss: 0.0254 - acc: 0.9919 - val_loss: 0.3542 - val_acc: 0.9191\n",
      "Epoch 74/100\n",
      "76315/76315 [==============================] - 1s 12us/step - loss: 0.0261 - acc: 0.9918 - val_loss: 0.6171 - val_acc: 0.8943\n",
      "Epoch 75/100\n",
      "76315/76315 [==============================] - 1s 12us/step - loss: 0.0240 - acc: 0.9923 - val_loss: 0.3613 - val_acc: 0.9244\n",
      "Epoch 76/100\n",
      "76315/76315 [==============================] - 1s 12us/step - loss: 0.0243 - acc: 0.9921 - val_loss: 0.4009 - val_acc: 0.9131\n",
      "Epoch 77/100\n",
      "76315/76315 [==============================] - 1s 12us/step - loss: 0.0222 - acc: 0.9930 - val_loss: 0.3777 - val_acc: 0.9225\n",
      "Epoch 78/100\n",
      "76315/76315 [==============================] - 1s 12us/step - loss: 0.0236 - acc: 0.9924 - val_loss: 0.3483 - val_acc: 0.9258\n",
      "Epoch 79/100\n",
      "76315/76315 [==============================] - 1s 12us/step - loss: 0.0220 - acc: 0.9928 - val_loss: 0.3649 - val_acc: 0.9217\n",
      "Epoch 80/100\n",
      "76315/76315 [==============================] - 1s 12us/step - loss: 0.0220 - acc: 0.9928 - val_loss: 0.4698 - val_acc: 0.9151\n",
      "Epoch 81/100\n",
      "76315/76315 [==============================] - 1s 12us/step - loss: 0.0210 - acc: 0.9932 - val_loss: 0.3473 - val_acc: 0.9220\n",
      "Epoch 82/100\n",
      "76315/76315 [==============================] - 1s 12us/step - loss: 0.0213 - acc: 0.9930 - val_loss: 0.3529 - val_acc: 0.9249\n",
      "Epoch 83/100\n",
      "76315/76315 [==============================] - 1s 12us/step - loss: 0.0219 - acc: 0.9929 - val_loss: 0.3834 - val_acc: 0.9248\n",
      "Epoch 84/100\n",
      "76315/76315 [==============================] - 1s 12us/step - loss: 0.0206 - acc: 0.9935 - val_loss: 0.3574 - val_acc: 0.9263\n",
      "Epoch 85/100\n",
      "76315/76315 [==============================] - 1s 12us/step - loss: 0.0223 - acc: 0.9927 - val_loss: 0.3880 - val_acc: 0.9240\n",
      "Epoch 86/100\n",
      "76315/76315 [==============================] - 1s 12us/step - loss: 0.0205 - acc: 0.9931 - val_loss: 0.4439 - val_acc: 0.9179\n",
      "Epoch 87/100\n",
      "76315/76315 [==============================] - 1s 12us/step - loss: 0.0195 - acc: 0.9936 - val_loss: 0.4058 - val_acc: 0.9225\n",
      "Epoch 88/100\n",
      "76315/76315 [==============================] - 1s 12us/step - loss: 0.0190 - acc: 0.9938 - val_loss: 0.3910 - val_acc: 0.9258\n",
      "Epoch 89/100\n",
      "76315/76315 [==============================] - 1s 12us/step - loss: 0.0195 - acc: 0.9939 - val_loss: 0.3731 - val_acc: 0.9238\n",
      "Epoch 90/100\n",
      "76315/76315 [==============================] - 1s 12us/step - loss: 0.0189 - acc: 0.9936 - val_loss: 0.3839 - val_acc: 0.9154\n",
      "Epoch 91/100\n",
      "76315/76315 [==============================] - 1s 12us/step - loss: 0.0180 - acc: 0.9941 - val_loss: 0.3865 - val_acc: 0.9222\n",
      "Epoch 92/100\n",
      "76315/76315 [==============================] - 1s 12us/step - loss: 0.0186 - acc: 0.9940 - val_loss: 0.3993 - val_acc: 0.9259\n",
      "Epoch 93/100\n",
      "76315/76315 [==============================] - 1s 12us/step - loss: 0.0192 - acc: 0.9942 - val_loss: 0.4059 - val_acc: 0.9204\n",
      "Epoch 94/100\n",
      "76315/76315 [==============================] - 1s 12us/step - loss: 0.0184 - acc: 0.9938 - val_loss: 0.3972 - val_acc: 0.9226\n",
      "Epoch 95/100\n",
      "76315/76315 [==============================] - 1s 12us/step - loss: 0.0174 - acc: 0.9945 - val_loss: 0.5039 - val_acc: 0.9189\n",
      "Epoch 96/100\n",
      "76315/76315 [==============================] - 1s 12us/step - loss: 0.0177 - acc: 0.9943 - val_loss: 0.4196 - val_acc: 0.9230\n",
      "Epoch 97/100\n",
      "76315/76315 [==============================] - 1s 12us/step - loss: 0.0183 - acc: 0.9944 - val_loss: 0.3902 - val_acc: 0.9252\n",
      "Epoch 98/100\n",
      "76315/76315 [==============================] - 1s 12us/step - loss: 0.0176 - acc: 0.9944 - val_loss: 0.4508 - val_acc: 0.9224\n",
      "Epoch 99/100\n",
      "76315/76315 [==============================] - 1s 12us/step - loss: 0.0172 - acc: 0.9945 - val_loss: 0.3737 - val_acc: 0.9249\n",
      "Epoch 100/100\n",
      "76315/76315 [==============================] - 1s 12us/step - loss: 0.0172 - acc: 0.9939 - val_loss: 0.3947 - val_acc: 0.9252\n"
     ]
    }
   ],
   "source": [
    "ln_history = lenet5.fit(Xtrain_ln5, Ytrain_ln5, batch_size=512, epochs=100, validation_data=(Xtest_ln5, Ytest_ln5), shuffle=True)"
   ]
  },
  {
   "cell_type": "code",
   "execution_count": 70,
   "metadata": {},
   "outputs": [
    {
     "data": {
      "image/png": "[encoded data removed]",
      "text/plain": [
       "<Figure size 432x288 with 1 Axes>"
      ]
     },
     "metadata": {},
     "output_type": "display_data"
    },
    {
     "data": {
      "image/png": "[encoded data removed]",
      "text/plain": [
       "<Figure size 432x288 with 1 Axes>"
      ]
     },
     "metadata": {},
     "output_type": "display_data"
    }
   ],
   "source": [
    "plt.rcParams['figure.figsize'] = (6,4)\n",
    "\n",
    "# summarize ln_history for accuracy\n",
    "plt.plot(ln_history.history['acc'])\n",
    "plt.plot(ln_history.history['val_acc'])\n",
    "plt.title('LeNet5 Accuracy')\n",
    "plt.ylabel('accuracy')\n",
    "plt.xlabel('epoch')\n",
    "plt.legend(['train', 'test'], loc='upper left')\n",
    "plt.show()\n",
    "\n",
    "# summarize ln_history for loss\n",
    "plt.plot(ln_history.history['loss'])\n",
    "plt.plot(ln_history.history['val_loss'])\n",
    "plt.title('LeNet5 Loss')\n",
    "plt.ylabel('loss')\n",
    "plt.xlabel('epoch')\n",
    "plt.legend(['train', 'test'], loc='upper left')\n",
    "plt.show()"
   ]
  },
  {
   "cell_type": "markdown",
   "metadata": {},
   "source": [
    "### Spectrograms"
   ]
  },
  {
   "cell_type": "code",
   "execution_count": 52,
   "metadata": {},
   "outputs": [
    {
     "data": {
      "text/plain": [
       "<matplotlib.axes._subplots.AxesSubplot at 0x7fe6203b1dd0>"
      ]
     },
     "execution_count": 52,
     "metadata": {},
     "output_type": "execute_result"
    },
    {
     "data": {
      "image/png": "[encoded data removed]",
      "text/plain": [
       "<Figure size 1008x288 with 1 Axes>"
      ]
     },
     "metadata": {},
     "output_type": "display_data"
    }
   ],
   "source": [
    "plt.rcParams['figure.figsize'] = (14,4)\n",
    "display.specshow(mfccs1, sr = 8000, x_axis='time', cmap = cm.magma)"
   ]
  },
  {
   "cell_type": "code",
   "execution_count": 53,
   "metadata": {},
   "outputs": [
    {
     "data": {
      "text/plain": [
       "<matplotlib.axes._subplots.AxesSubplot at 0x7fe620317250>"
      ]
     },
     "execution_count": 53,
     "metadata": {},
     "output_type": "execute_result"
    },
    {
     "data": {
      "image/png": "[encoded data removed]",
      "text/plain": [
       "<Figure size 1008x288 with 1 Axes>"
      ]
     },
     "metadata": {},
     "output_type": "display_data"
    }
   ],
   "source": [
    "display.specshow(mfccs2, sr = 8000, x_axis='time', cmap = cm.magma)"
   ]
  },
  {
   "cell_type": "markdown",
   "metadata": {},
   "source": [
    "### Automated Censorship"
   ]
  },
  {
   "cell_type": "markdown",
   "metadata": {},
   "source": [
    "For the task of automated censorship, we needed to isolate the individual words for predictions in our models. While we explored writing custom algorithms to split on the valleys times in the noise data, ultimately (based on time considerations) we implemented Google Clouds' speech-to-text API to timestamp and then used the librosa library to cut out and pad words. The exported wav files can be fed directly into either of our models with minimal preprocessing."
   ]
  },
  {
   "cell_type": "code",
   "execution_count": null,
   "metadata": {},
   "outputs": [],
   "source": [
    "import os\n",
    "import io\n",
    "import numpy as np\n",
    "import librosa\n",
    "from google.cloud import speech_v1\n",
    "\n",
    "def convert(path):\n",
    "    for filename in os.listdir(path):\n",
    "        if (filename.endswith(\".m4a\")):\n",
    "            # ffmpeg -i 001.m4a -ar 8000 -ac 1 001.wav\n",
    "            os.system(\"ffmpeg -i {} -ar 8000 -ac 1 %03d.wav\".format(filename))\n",
    "\n",
    "def timestamp(local_file_path, sample_rate, raw):\n",
    "\n",
    "    client = speech_v1.SpeechClient()\n",
    "    config = { \"enable_word_time_offsets\": True, \"language_code\": \"en-US\",\n",
    "                \"sample_rate_hertz\": sample_rate }\n",
    "\n",
    "    with io.open(local_file_path, \"rb\") as f:\n",
    "        content = f.read()\n",
    "    audio = {\"content\": content}\n",
    "\n",
    "    operation = client.long_running_recognize(config, audio)\n",
    "    print(u\"Waiting for operation to complete...\")\n",
    "    response = operation.result()\n",
    "    alternative = result.alternatives[0]\n",
    "\n",
    "    words = []\n",
    "    kilohertz = 1.0 / sample_rate\n",
    "    for word in alternative:\n",
    "        start = int(word.start_time.seconds + (1e-9 * word.start_time.nanos) / kilohertz)\n",
    "        finish = int(word.end_time.seconds + (1e-9 * word.end_time.nanos) / kilohertz)\n",
    "        words.append(raw[start:finish])\n",
    "    return words\n",
    "\n",
    "def process(words, sr):\n",
    "    new_words = []\n",
    "    for word in words:\n",
    "        diff = sr - word.shape[0]\n",
    "        if diff > 0:\n",
    "            silence = np.full(diff, -16)\n",
    "            new = word.hstack((silence))\n",
    "            new_words.append(new)\n",
    "        elif diff == 0:\n",
    "            new_words.append(word)\n",
    "    return new_words\n",
    "\n",
    "def export(directory, words, sr):\n",
    "    for word in words:\n",
    "        librosa.soundfile.write(directory + \"%03d.wav\", word, sr)\n",
    "\n",
    "filename = \"001.wav\"\n",
    "raw, sr = librosa.load(filename, sr=8000)\n",
    "words = timestamp(filename, sr, raw)\n",
    "processed = process(words)\n",
    "export(processed)"
   ]
  },
  {
   "cell_type": "markdown",
   "metadata": {},
   "source": [
    "After runnning this script to isolate the words, we can feed the wav through the model. If the model determines them to be a keyword, we can use librosa to replace the time with a beep wav file of the same frequency and time length."
   ]
  }
 ],
 "metadata": {
  "kernelspec": {
   "display_name": "Python [conda env:tensorflow_p27]",
   "language": "python",
   "name": "conda-env-tensorflow_p27-py"
  },
  "language_info": {
   "codemirror_mode": {
    "name": "ipython",
    "version": 2
   },
   "file_extension": ".py",
   "mimetype": "text/x-python",
   "name": "python",
   "nbconvert_exporter": "python",
   "pygments_lexer": "ipython2",
   "version": "2.7.15"
  }
 },
 "nbformat": 4,
 "nbformat_minor": 2
}
